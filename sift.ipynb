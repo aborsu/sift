{
 "cells": [
  {
   "cell_type": "code",
   "execution_count": 1,
   "metadata": {
    "collapsed": true
   },
   "outputs": [],
   "source": [
    "import pyspark\n",
    "sc = pyspark.SparkContext()"
   ]
  },
  {
   "cell_type": "code",
   "execution_count": 2,
   "metadata": {
    "collapsed": true
   },
   "outputs": [],
   "source": [
    "from sift.corpora import wikipedia\n",
    "from sift.models import text, links"
   ]
  },
  {
   "cell_type": "code",
   "execution_count": 3,
   "metadata": {},
   "outputs": [
    {
     "name": "stdout",
     "output_type": "stream",
     "text": [
      "total 1249080\r\n",
      "-rw-rw-r--. 1 aborsu aborsu 159443563  3 mar 00:04 \u001b[0m\u001b[38;5;9mnlwiki-20180301-pages-articles1.xml-p1p224145.bz2\u001b[0m\r\n",
      "-rw-rw-r--. 1 aborsu aborsu 188462304  3 mar 00:09 \u001b[38;5;9mnlwiki-20180301-pages-articles2.xml-p224146p776658.bz2\u001b[0m\r\n",
      "-rw-rw-r--. 1 aborsu aborsu 319879912  3 mar 00:18 \u001b[38;5;9mnlwiki-20180301-pages-articles3.xml-p776661p1874903.bz2\u001b[0m\r\n",
      "-rw-rw-r--. 1 aborsu aborsu 293193701  3 mar 00:32 \u001b[38;5;9mnlwiki-20180301-pages-articles4.xml-p1874904p3374904.bz2\u001b[0m\r\n",
      "-rw-rw-r--. 1 aborsu aborsu 296945495  3 mar 00:59 \u001b[38;5;9mnlwiki-20180301-pages-articles4.xml-p3374904p4874904.bz2\u001b[0m\r\n",
      "-rw-rw-r--. 1 aborsu aborsu  21096327  3 mar 00:35 \u001b[38;5;9mnlwiki-20180301-pages-articles4.xml-p4874904p4955578.bz2\u001b[0m\r\n"
     ]
    }
   ],
   "source": [
    "ls -l 20180301"
   ]
  },
  {
   "cell_type": "code",
   "execution_count": 4,
   "metadata": {},
   "outputs": [],
   "source": [
    "import os\n",
    "base_path = os.path.join(os.getcwd(), '20180301')"
   ]
  },
  {
   "cell_type": "code",
   "execution_count": 5,
   "metadata": {
    "collapsed": true
   },
   "outputs": [],
   "source": [
    "corpus = wikipedia.WikipediaCorpus().build(sc, base_path)"
   ]
  },
  {
   "cell_type": "code",
   "execution_count": 6,
   "metadata": {},
   "outputs": [],
   "source": [
    "a = corpus.take(10)[3]"
   ]
  },
  {
   "cell_type": "code",
   "execution_count": 7,
   "metadata": {},
   "outputs": [
    {
     "data": {
      "text/plain": [
       "{'_id': 'en.wikipedia.org/wiki/Kobaltbom',\n",
       " 'content': None,\n",
       " 'namespace': '0',\n",
       " 'pid': 4874904,\n",
       " 'redirect': 'Kobalt'}"
      ]
     },
     "execution_count": 7,
     "metadata": {},
     "output_type": "execute_result"
    }
   ],
   "source": [
    "from sift.corpora import wikicorpus\n",
    "pfx = wikicorpus.wikilink_prefix\n",
    "redirects = corpus.filter(lambda page: page['redirect'] != None)\n",
    "\n"
   ]
  },
  {
   "cell_type": "code",
   "execution_count": 8,
   "metadata": {
    "collapsed": true
   },
   "outputs": [],
   "source": [
    "redirects = wikipedia.WikipediaRedirects()(corpus)\n",
    "docs = wikipedia.WikipediaArticles()(corpus, redirects)"
   ]
  },
  {
   "cell_type": "code",
   "execution_count": 9,
   "metadata": {},
   "outputs": [
    {
     "data": {
      "text/plain": [
       "{'_id': 'en.wikipedia.org/wiki/Lijst_van_gemeentelijke_monumenten_in_Leiden,_straat_G-I',\n",
       " 'target': 'en.wikipedia.org/wiki/Lijst_van_gemeentelijke_monumenten_in_Leiden'}"
      ]
     },
     "execution_count": 9,
     "metadata": {},
     "output_type": "execute_result"
    }
   ],
   "source": [
    "redirects.first()"
   ]
  },
  {
   "cell_type": "code",
   "execution_count": null,
   "metadata": {},
   "outputs": [],
   "source": [
    "docs.first()"
   ]
  },
  {
   "cell_type": "code",
   "execution_count": null,
   "metadata": {
    "collapsed": true
   },
   "outputs": [],
   "source": [
    "vocab = text.TermVocab(max_rank=100000,min_rank=0,lowercase=True,min_df=5)(docs.sample(False, 0.25))"
   ]
  },
  {
   "cell_type": "code",
   "execution_count": null,
   "metadata": {},
   "outputs": [],
   "source": [
    "vocab.take(10)"
   ]
  },
  {
   "cell_type": "code",
   "execution_count": null,
   "metadata": {},
   "outputs": [],
   "source": [
    "text.EntityMentions(sentence_window=1,lowercase=True)(docs).take(1)"
   ]
  },
  {
   "cell_type": "code",
   "execution_count": null,
   "metadata": {
    "collapsed": true
   },
   "outputs": [],
   "source": [
    "mentions = text.IndexMappedMentions(sentence_window=1,lowercase=True)(sc, docs, vocab)"
   ]
  },
  {
   "cell_type": "code",
   "execution_count": null,
   "metadata": {},
   "outputs": [],
   "source": [
    "mentions.take(1)"
   ]
  },
  {
   "cell_type": "code",
   "execution_count": null,
   "metadata": {},
   "outputs": [],
   "source": [
    "links.EntityCounts()(docs).take(10)"
   ]
  },
  {
   "cell_type": "code",
   "execution_count": null,
   "metadata": {},
   "outputs": [],
   "source": [
    "links\\\n",
    "    .EntityNameCounts()(docs)\\\n",
    "    .filter(lambda r: len(r['counts']) >= 3)\\\n",
    "    .take(5)"
   ]
  },
  {
   "cell_type": "code",
   "execution_count": null,
   "metadata": {
    "collapsed": true
   },
   "outputs": [],
   "source": []
  }
 ],
 "metadata": {
  "kernelspec": {
   "display_name": "Python 3",
   "language": "python",
   "name": "python3"
  },
  "language_info": {
   "codemirror_mode": {
    "name": "ipython",
    "version": 3
   },
   "file_extension": ".py",
   "mimetype": "text/x-python",
   "name": "python",
   "nbconvert_exporter": "python",
   "pygments_lexer": "ipython3",
   "version": "3.6.2"
  }
 },
 "nbformat": 4,
 "nbformat_minor": 1
}
